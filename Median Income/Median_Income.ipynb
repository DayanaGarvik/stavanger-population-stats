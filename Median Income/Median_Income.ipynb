{
 "cells": [
  {
   "cell_type": "code",
   "execution_count": 1,
   "metadata": {},
   "outputs": [],
   "source": [
    "import numpy as np\n",
    "import pandas as pd\n",
    "import matplotlib.pyplot as plt\n",
    "import seaborn as sns\n",
    "\n",
    "sns.set_style(\"darkgrid\")"
   ]
  },
  {
   "cell_type": "code",
   "execution_count": 2,
   "metadata": {},
   "outputs": [
    {
     "data": {
      "text/html": [
       "<div>\n",
       "<style scoped>\n",
       "    .dataframe tbody tr th:only-of-type {\n",
       "        vertical-align: middle;\n",
       "    }\n",
       "\n",
       "    .dataframe tbody tr th {\n",
       "        vertical-align: top;\n",
       "    }\n",
       "\n",
       "    .dataframe thead th {\n",
       "        text-align: right;\n",
       "    }\n",
       "</style>\n",
       "<table border=\"1\" class=\"dataframe\">\n",
       "  <thead>\n",
       "    <tr style=\"text-align: right;\">\n",
       "      <th></th>\n",
       "      <th>År</th>\n",
       "      <th>Ident</th>\n",
       "      <th>Navn</th>\n",
       "      <th>Indikator</th>\n",
       "      <th>parameter</th>\n",
       "      <th>Variabel</th>\n",
       "    </tr>\n",
       "  </thead>\n",
       "  <tbody>\n",
       "    <tr>\n",
       "      <th>0</th>\n",
       "      <td>2012</td>\n",
       "      <td>1</td>\n",
       "      <td>01 Buøy</td>\n",
       "      <td>Median inntekt etter skatt pr forbruksenhet</td>\n",
       "      <td>NOK</td>\n",
       "      <td>358400</td>\n",
       "    </tr>\n",
       "    <tr>\n",
       "      <th>1</th>\n",
       "      <td>2012</td>\n",
       "      <td>2</td>\n",
       "      <td>02 Badedammen</td>\n",
       "      <td>Median inntekt etter skatt pr forbruksenhet</td>\n",
       "      <td>NOK</td>\n",
       "      <td>333200</td>\n",
       "    </tr>\n",
       "    <tr>\n",
       "      <th>2</th>\n",
       "      <td>2012</td>\n",
       "      <td>3</td>\n",
       "      <td>03 Sentrum</td>\n",
       "      <td>Median inntekt etter skatt pr forbruksenhet</td>\n",
       "      <td>NOK</td>\n",
       "      <td>312000</td>\n",
       "    </tr>\n",
       "    <tr>\n",
       "      <th>3</th>\n",
       "      <td>2012</td>\n",
       "      <td>4</td>\n",
       "      <td>04 Bergeland</td>\n",
       "      <td>Median inntekt etter skatt pr forbruksenhet</td>\n",
       "      <td>NOK</td>\n",
       "      <td>326600</td>\n",
       "    </tr>\n",
       "    <tr>\n",
       "      <th>4</th>\n",
       "      <td>2012</td>\n",
       "      <td>5</td>\n",
       "      <td>05 Nylund</td>\n",
       "      <td>Median inntekt etter skatt pr forbruksenhet</td>\n",
       "      <td>NOK</td>\n",
       "      <td>368400</td>\n",
       "    </tr>\n",
       "  </tbody>\n",
       "</table>\n",
       "</div>"
      ],
      "text/plain": [
       "     År  Ident           Navn                                    Indikator  \\\n",
       "0  2012      1        01 Buøy  Median inntekt etter skatt pr forbruksenhet   \n",
       "1  2012      2  02 Badedammen  Median inntekt etter skatt pr forbruksenhet   \n",
       "2  2012      3     03 Sentrum  Median inntekt etter skatt pr forbruksenhet   \n",
       "3  2012      4   04 Bergeland  Median inntekt etter skatt pr forbruksenhet   \n",
       "4  2012      5      05 Nylund  Median inntekt etter skatt pr forbruksenhet   \n",
       "\n",
       "  parameter  Variabel  \n",
       "0       NOK    358400  \n",
       "1       NOK    333200  \n",
       "2       NOK    312000  \n",
       "3       NOK    326600  \n",
       "4       NOK    368400  "
      ]
     },
     "execution_count": 2,
     "metadata": {},
     "output_type": "execute_result"
    }
   ],
   "source": [
    "median_salary = pd.read_csv('median_inntekt.csv')\n",
    "median_salary.head()"
   ]
  },
  {
   "cell_type": "code",
   "execution_count": 3,
   "metadata": {},
   "outputs": [],
   "source": [
    "# Choosing records for 2014 and 2016\n",
    "median_salary = median_salary.loc[median_salary['År'].isin([2014, 2016])]"
   ]
  },
  {
   "cell_type": "code",
   "execution_count": 4,
   "metadata": {},
   "outputs": [],
   "source": [
    "# Cleaning names of the districts, so that the same district is of the same format at all years.\n",
    "median_salary['Navn'] = median_salary['Navn'].str.replace(r'\\d+','').str.replace(' ','')"
   ]
  },
  {
   "cell_type": "code",
   "execution_count": 5,
   "metadata": {},
   "outputs": [
    {
     "data": {
      "text/html": [
       "<div>\n",
       "<style scoped>\n",
       "    .dataframe tbody tr th:only-of-type {\n",
       "        vertical-align: middle;\n",
       "    }\n",
       "\n",
       "    .dataframe tbody tr th {\n",
       "        vertical-align: top;\n",
       "    }\n",
       "\n",
       "    .dataframe thead th {\n",
       "        text-align: right;\n",
       "    }\n",
       "</style>\n",
       "<table border=\"1\" class=\"dataframe\">\n",
       "  <thead>\n",
       "    <tr style=\"text-align: right;\">\n",
       "      <th></th>\n",
       "      <th>År</th>\n",
       "      <th>Ident</th>\n",
       "      <th>Navn</th>\n",
       "      <th>Indikator</th>\n",
       "      <th>parameter</th>\n",
       "      <th>Variabel</th>\n",
       "    </tr>\n",
       "  </thead>\n",
       "  <tbody>\n",
       "    <tr>\n",
       "      <th>69</th>\n",
       "      <td>2014</td>\n",
       "      <td>1</td>\n",
       "      <td>Buøy</td>\n",
       "      <td>Median inntekt etter skatt pr forbruksenhet</td>\n",
       "      <td>NOK</td>\n",
       "      <td>389700</td>\n",
       "    </tr>\n",
       "    <tr>\n",
       "      <th>70</th>\n",
       "      <td>2014</td>\n",
       "      <td>2</td>\n",
       "      <td>Badedammen</td>\n",
       "      <td>Median inntekt etter skatt pr forbruksenhet</td>\n",
       "      <td>NOK</td>\n",
       "      <td>355200</td>\n",
       "    </tr>\n",
       "    <tr>\n",
       "      <th>71</th>\n",
       "      <td>2014</td>\n",
       "      <td>3</td>\n",
       "      <td>Sentrum</td>\n",
       "      <td>Median inntekt etter skatt pr forbruksenhet</td>\n",
       "      <td>NOK</td>\n",
       "      <td>319100</td>\n",
       "    </tr>\n",
       "    <tr>\n",
       "      <th>72</th>\n",
       "      <td>2014</td>\n",
       "      <td>4</td>\n",
       "      <td>Bergeland</td>\n",
       "      <td>Median inntekt etter skatt pr forbruksenhet</td>\n",
       "      <td>NOK</td>\n",
       "      <td>341600</td>\n",
       "    </tr>\n",
       "    <tr>\n",
       "      <th>73</th>\n",
       "      <td>2014</td>\n",
       "      <td>5</td>\n",
       "      <td>Nylund</td>\n",
       "      <td>Median inntekt etter skatt pr forbruksenhet</td>\n",
       "      <td>NOK</td>\n",
       "      <td>395600</td>\n",
       "    </tr>\n",
       "  </tbody>\n",
       "</table>\n",
       "</div>"
      ],
      "text/plain": [
       "      År  Ident        Navn                                    Indikator  \\\n",
       "69  2014      1        Buøy  Median inntekt etter skatt pr forbruksenhet   \n",
       "70  2014      2  Badedammen  Median inntekt etter skatt pr forbruksenhet   \n",
       "71  2014      3     Sentrum  Median inntekt etter skatt pr forbruksenhet   \n",
       "72  2014      4   Bergeland  Median inntekt etter skatt pr forbruksenhet   \n",
       "73  2014      5      Nylund  Median inntekt etter skatt pr forbruksenhet   \n",
       "\n",
       "   parameter  Variabel  \n",
       "69       NOK    389700  \n",
       "70       NOK    355200  \n",
       "71       NOK    319100  \n",
       "72       NOK    341600  \n",
       "73       NOK    395600  "
      ]
     },
     "execution_count": 5,
     "metadata": {},
     "output_type": "execute_result"
    }
   ],
   "source": [
    "# Checking if the dataset looks right.\n",
    "median_salary.head()"
   ]
  },
  {
   "cell_type": "code",
   "execution_count": 6,
   "metadata": {},
   "outputs": [],
   "source": [
    "# Choosing districts we want to explore\n",
    "districts = ['Kannik', 'Bjergsted', 'Hundvågkrossen', 'Gausel', 'Jåttåvågen', 'Lervig', 'Stokka', 'Solborg',\n",
    "            'Byhaugen', 'Buøy']\n",
    "median_salary = median_salary.loc[median_salary['Navn'].isin(districts)] "
   ]
  },
  {
   "cell_type": "code",
   "execution_count": 7,
   "metadata": {},
   "outputs": [
    {
     "data": {
      "text/plain": [
       "År            int64\n",
       "Ident         int64\n",
       "Navn         object\n",
       "Indikator    object\n",
       "parameter    object\n",
       "Variabel      int64\n",
       "dtype: object"
      ]
     },
     "execution_count": 7,
     "metadata": {},
     "output_type": "execute_result"
    }
   ],
   "source": [
    "median_salary.dtypes"
   ]
  },
  {
   "cell_type": "code",
   "execution_count": 8,
   "metadata": {},
   "outputs": [
    {
     "data": {
      "image/png": "[encoded data removed]",
      "text/plain": [
       "<Figure size 864x504 with 1 Axes>"
      ]
     },
     "metadata": {
      "needs_background": "light"
     },
     "output_type": "display_data"
    }
   ],
   "source": [
    "# Visualizing differences in median salary values for population in chosen districts\n",
    "fig, ax = plt.subplots(figsize=(12, 7))\n",
    "\n",
    "ax = sns.barplot(x=\"Navn\", y=\"Variabel\", hue=\"År\", palette='Set1', data=median_salary)\n",
    "\n",
    "plt.title(\"Median Salary per Consumption Unit of Households\", fontsize=18)\n",
    "ax.set_xticklabels(ax.get_xticklabels(), rotation=45, fontsize='large')\n",
    "ax.set_xlabel('Districts', fontsize=14) \n",
    "ax.set_ylabel('Salary', fontsize=14)\n",
    "ax.set(ylim=(100000, 540000))\n",
    "ax.legend(title=\"Year\")\n",
    "\n",
    "\n",
    "figure = ax.get_figure()\n",
    "#figure.savefig(\"med_salary.png\")"
   ]
  },
  {
   "cell_type": "markdown",
   "metadata": {},
   "source": [
    "From the graph we can see how the 2 districts with highest median income are also the same 2 districts\n",
    "with largest share of people with higher education as shown in the graph Higher_Education. However the rest of the income numbers are spread quite evenly."
   ]
  },
  {
   "cell_type": "code",
   "execution_count": null,
   "metadata": {},
   "outputs": [],
   "source": []
  }
 ],
 "metadata": {
  "kernelspec": {
   "display_name": "Python 3",
   "language": "python",
   "name": "python3"
  },
  "language_info": {
   "codemirror_mode": {
    "name": "ipython",
    "version": 3
   },
   "file_extension": ".py",
   "mimetype": "text/x-python",
   "name": "python",
   "nbconvert_exporter": "python",
   "pygments_lexer": "ipython3",
   "version": "3.7.3"
  }
 },
 "nbformat": 4,
 "nbformat_minor": 2
}
