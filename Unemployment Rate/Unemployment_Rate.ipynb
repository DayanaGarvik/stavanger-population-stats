{
 "cells": [
  {
   "cell_type": "code",
   "execution_count": 1,
   "metadata": {},
   "outputs": [],
   "source": [
    "import numpy as np\n",
    "import pandas as pd\n",
    "import matplotlib.pyplot as plt\n",
    "import seaborn as sns\n",
    "\n",
    "sns.set_style(\"darkgrid\")"
   ]
  },
  {
   "cell_type": "code",
   "execution_count": 2,
   "metadata": {},
   "outputs": [
    {
     "data": {
      "text/html": [
       "<div>\n",
       "<style scoped>\n",
       "    .dataframe tbody tr th:only-of-type {\n",
       "        vertical-align: middle;\n",
       "    }\n",
       "\n",
       "    .dataframe tbody tr th {\n",
       "        vertical-align: top;\n",
       "    }\n",
       "\n",
       "    .dataframe thead th {\n",
       "        text-align: right;\n",
       "    }\n",
       "</style>\n",
       "<table border=\"1\" class=\"dataframe\">\n",
       "  <thead>\n",
       "    <tr style=\"text-align: right;\">\n",
       "      <th></th>\n",
       "      <th>År</th>\n",
       "      <th>Ident</th>\n",
       "      <th>Navn</th>\n",
       "      <th>Indikator</th>\n",
       "      <th>parameter</th>\n",
       "      <th>Variabel</th>\n",
       "    </tr>\n",
       "  </thead>\n",
       "  <tbody>\n",
       "    <tr>\n",
       "      <th>0</th>\n",
       "      <td>2012</td>\n",
       "      <td>1</td>\n",
       "      <td>01 Buøy</td>\n",
       "      <td>Registrert arbeidsledighet, 15-74 år</td>\n",
       "      <td>(% av befolkningen)</td>\n",
       "      <td>1,55</td>\n",
       "    </tr>\n",
       "    <tr>\n",
       "      <th>1</th>\n",
       "      <td>2012</td>\n",
       "      <td>2</td>\n",
       "      <td>02 Badedammen</td>\n",
       "      <td>Registrert arbeidsledighet, 15-74 år</td>\n",
       "      <td>(% av befolkningen)</td>\n",
       "      <td>1,75</td>\n",
       "    </tr>\n",
       "    <tr>\n",
       "      <th>2</th>\n",
       "      <td>2012</td>\n",
       "      <td>3</td>\n",
       "      <td>03 Sentrum</td>\n",
       "      <td>Registrert arbeidsledighet, 15-74 år</td>\n",
       "      <td>(% av befolkningen)</td>\n",
       "      <td>1,38</td>\n",
       "    </tr>\n",
       "    <tr>\n",
       "      <th>3</th>\n",
       "      <td>2012</td>\n",
       "      <td>4</td>\n",
       "      <td>04 Bergeland</td>\n",
       "      <td>Registrert arbeidsledighet, 15-74 år</td>\n",
       "      <td>(% av befolkningen)</td>\n",
       "      <td>1,68</td>\n",
       "    </tr>\n",
       "    <tr>\n",
       "      <th>4</th>\n",
       "      <td>2012</td>\n",
       "      <td>5</td>\n",
       "      <td>05 Nylund</td>\n",
       "      <td>Registrert arbeidsledighet, 15-74 år</td>\n",
       "      <td>(% av befolkningen)</td>\n",
       "      <td>1,53</td>\n",
       "    </tr>\n",
       "  </tbody>\n",
       "</table>\n",
       "</div>"
      ],
      "text/plain": [
       "     År  Ident           Navn                             Indikator  \\\n",
       "0  2012      1        01 Buøy  Registrert arbeidsledighet, 15-74 år   \n",
       "1  2012      2  02 Badedammen  Registrert arbeidsledighet, 15-74 år   \n",
       "2  2012      3     03 Sentrum  Registrert arbeidsledighet, 15-74 år   \n",
       "3  2012      4   04 Bergeland  Registrert arbeidsledighet, 15-74 år   \n",
       "4  2012      5      05 Nylund  Registrert arbeidsledighet, 15-74 år   \n",
       "\n",
       "             parameter Variabel  \n",
       "0  (% av befolkningen)     1,55  \n",
       "1  (% av befolkningen)     1,75  \n",
       "2  (% av befolkningen)     1,38  \n",
       "3  (% av befolkningen)     1,68  \n",
       "4  (% av befolkningen)     1,53  "
      ]
     },
     "execution_count": 2,
     "metadata": {},
     "output_type": "execute_result"
    }
   ],
   "source": [
    "unemployment = pd.read_csv('registrert-arbeidsledighet.csv')\n",
    "unemployment.head()"
   ]
  },
  {
   "cell_type": "code",
   "execution_count": 3,
   "metadata": {},
   "outputs": [],
   "source": [
    "# Choosing records for 2014 and 2016\n",
    "unemployment = unemployment.loc[unemployment['År'].isin([2014, 2016])]"
   ]
  },
  {
   "cell_type": "code",
   "execution_count": 4,
   "metadata": {},
   "outputs": [],
   "source": [
    "# Percentage column is of dtype - object. In order to change the type to float we need to replace\n",
    "# commas with dots.\n",
    "unemployment['Variabel'] = unemployment['Variabel'].str.replace(',', '.')"
   ]
  },
  {
   "cell_type": "code",
   "execution_count": 5,
   "metadata": {},
   "outputs": [],
   "source": [
    "# Cleaning names of the districts, so that the same district is of the same format at all years.\n",
    "unemployment['Navn'] = unemployment['Navn'].str.replace(r'\\d+','').str.replace(' ','')"
   ]
  },
  {
   "cell_type": "code",
   "execution_count": 6,
   "metadata": {},
   "outputs": [
    {
     "data": {
      "text/html": [
       "<div>\n",
       "<style scoped>\n",
       "    .dataframe tbody tr th:only-of-type {\n",
       "        vertical-align: middle;\n",
       "    }\n",
       "\n",
       "    .dataframe tbody tr th {\n",
       "        vertical-align: top;\n",
       "    }\n",
       "\n",
       "    .dataframe thead th {\n",
       "        text-align: right;\n",
       "    }\n",
       "</style>\n",
       "<table border=\"1\" class=\"dataframe\">\n",
       "  <thead>\n",
       "    <tr style=\"text-align: right;\">\n",
       "      <th></th>\n",
       "      <th>År</th>\n",
       "      <th>Ident</th>\n",
       "      <th>Navn</th>\n",
       "      <th>Indikator</th>\n",
       "      <th>parameter</th>\n",
       "      <th>Variabel</th>\n",
       "    </tr>\n",
       "  </thead>\n",
       "  <tbody>\n",
       "    <tr>\n",
       "      <th>69</th>\n",
       "      <td>2014</td>\n",
       "      <td>1</td>\n",
       "      <td>Buøy</td>\n",
       "      <td>Registrert arbeidsledighet, 15-74 år</td>\n",
       "      <td>(% av befolkningen)</td>\n",
       "      <td>1.5</td>\n",
       "    </tr>\n",
       "    <tr>\n",
       "      <th>70</th>\n",
       "      <td>2014</td>\n",
       "      <td>2</td>\n",
       "      <td>Badedammen</td>\n",
       "      <td>Registrert arbeidsledighet, 15-74 år</td>\n",
       "      <td>(% av befolkningen)</td>\n",
       "      <td>2</td>\n",
       "    </tr>\n",
       "    <tr>\n",
       "      <th>71</th>\n",
       "      <td>2014</td>\n",
       "      <td>3</td>\n",
       "      <td>Sentrum</td>\n",
       "      <td>Registrert arbeidsledighet, 15-74 år</td>\n",
       "      <td>(% av befolkningen)</td>\n",
       "      <td>1.8</td>\n",
       "    </tr>\n",
       "    <tr>\n",
       "      <th>72</th>\n",
       "      <td>2014</td>\n",
       "      <td>4</td>\n",
       "      <td>Bergeland</td>\n",
       "      <td>Registrert arbeidsledighet, 15-74 år</td>\n",
       "      <td>(% av befolkningen)</td>\n",
       "      <td>2.4</td>\n",
       "    </tr>\n",
       "    <tr>\n",
       "      <th>73</th>\n",
       "      <td>2014</td>\n",
       "      <td>5</td>\n",
       "      <td>Nylund</td>\n",
       "      <td>Registrert arbeidsledighet, 15-74 år</td>\n",
       "      <td>(% av befolkningen)</td>\n",
       "      <td>1.9</td>\n",
       "    </tr>\n",
       "  </tbody>\n",
       "</table>\n",
       "</div>"
      ],
      "text/plain": [
       "      År  Ident        Navn                             Indikator  \\\n",
       "69  2014      1        Buøy  Registrert arbeidsledighet, 15-74 år   \n",
       "70  2014      2  Badedammen  Registrert arbeidsledighet, 15-74 år   \n",
       "71  2014      3     Sentrum  Registrert arbeidsledighet, 15-74 år   \n",
       "72  2014      4   Bergeland  Registrert arbeidsledighet, 15-74 år   \n",
       "73  2014      5      Nylund  Registrert arbeidsledighet, 15-74 år   \n",
       "\n",
       "              parameter Variabel  \n",
       "69  (% av befolkningen)      1.5  \n",
       "70  (% av befolkningen)        2  \n",
       "71  (% av befolkningen)      1.8  \n",
       "72  (% av befolkningen)      2.4  \n",
       "73  (% av befolkningen)      1.9  "
      ]
     },
     "execution_count": 6,
     "metadata": {},
     "output_type": "execute_result"
    }
   ],
   "source": [
    "# Checking if the dataset looks right.\n",
    "unemployment.head()"
   ]
  },
  {
   "cell_type": "code",
   "execution_count": 7,
   "metadata": {},
   "outputs": [],
   "source": [
    "# Choosing districts we want to explore\n",
    "districts = ['Kannik', 'Bjergsted', 'Hundvågkrossen', 'Gausel', 'Jåttåvågen', 'Lervig', 'Stokka', 'Solborg',\n",
    "            'Byhaugen', 'Buøy']\n",
    "unemployment = unemployment.loc[unemployment['Navn'].isin(districts)] "
   ]
  },
  {
   "cell_type": "code",
   "execution_count": 8,
   "metadata": {},
   "outputs": [],
   "source": [
    "# Converting column with percentage values to float\n",
    "convert_dict = {'Variabel': float}\n",
    "unemployment = unemployment.astype(convert_dict)"
   ]
  },
  {
   "cell_type": "code",
   "execution_count": 9,
   "metadata": {},
   "outputs": [
    {
     "data": {
      "text/plain": [
       "År             int64\n",
       "Ident          int64\n",
       "Navn          object\n",
       "Indikator     object\n",
       "parameter     object\n",
       "Variabel     float64\n",
       "dtype: object"
      ]
     },
     "execution_count": 9,
     "metadata": {},
     "output_type": "execute_result"
    }
   ],
   "source": [
    "# Checking that the datatypes are correct\n",
    "unemployment.dtypes"
   ]
  },
  {
   "cell_type": "code",
   "execution_count": 10,
   "metadata": {},
   "outputs": [
    {
     "data": {
      "image/png": "[encoded data removed]",
      "text/plain": [
       "<Figure size 864x504 with 1 Axes>"
      ]
     },
     "metadata": {
      "needs_background": "light"
     },
     "output_type": "display_data"
    }
   ],
   "source": [
    "# Visualizing differences in unemployment for population in chosen districts\n",
    "fig, ax = plt.subplots(figsize=(12, 7))\n",
    "\n",
    "ax = sns.barplot(x=\"Navn\", y=\"Variabel\", hue=\"År\", palette='Set1', data=unemployment)\n",
    "\n",
    "plt.title(\"Share of Districts Population who are Unemployed\\n Ages 15 to 74\", fontsize=18)\n",
    "ax.set_xticklabels(ax.get_xticklabels(), rotation=45, fontsize='large')\n",
    "ax.set_xlabel('Districts', fontsize=14)\n",
    "ax.set_ylabel('Percentage', fontsize=14)\n",
    "ax.set(ylim=(0, 10))\n",
    "ax.legend(title=\"Year\")\n",
    "\n",
    "figure = ax.get_figure()\n",
    "#figure.savefig(\"unemployed.png\")"
   ]
  },
  {
   "cell_type": "markdown",
   "metadata": {},
   "source": [
    "The graph clearly shows how the Oil Crisis of 2016 influenced unemployment rates in the region. It would have been interesting to see how/if it has improved the last 4 years. Unfortunately,\n",
    "as of today(03/07/2020), Stavanger municipality does not have more current data on their Open Data portal. I am going to try and find more updated statistics to fit into the graph on a later occasion. "
   ]
  },
  {
   "cell_type": "code",
   "execution_count": null,
   "metadata": {},
   "outputs": [],
   "source": []
  }
 ],
 "metadata": {
  "kernelspec": {
   "display_name": "Python 3",
   "language": "python",
   "name": "python3"
  },
  "language_info": {
   "codemirror_mode": {
    "name": "ipython",
    "version": 3
   },
   "file_extension": ".py",
   "mimetype": "text/x-python",
   "name": "python",
   "nbconvert_exporter": "python",
   "pygments_lexer": "ipython3",
   "version": "3.7.3"
  }
 },
 "nbformat": 4,
 "nbformat_minor": 2
}
